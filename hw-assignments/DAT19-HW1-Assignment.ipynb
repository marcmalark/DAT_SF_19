{
 "cells": [
  {
   "cell_type": "markdown",
   "metadata": {},
   "source": [
    "# DAT 19: Homework 1 Assignment"
   ]
  },
  {
   "cell_type": "markdown",
   "metadata": {},
   "source": [
    "## Instructions\n",
    "\n",
    "In this assignment, we will explore the passenger list of the Titanic, as provided in a well-known [Kaggle](https://www.kaggle.com) competition. For this assignment, we are concerned only with initial exploration. Please answer the specific questions listed below.\n",
    "\n",
    "The dataset is a list of passengers. The second column of the dataset is the label for each person indicating whether that person survived (1) or did not survive (0). The data is described in more detail below.\n",
    "\n",
    "There is no need to download the data from Kaggle. We have provided the titanic.csv dataset for you in the same  directory as this assignment.\n",
    "\n",
    "Please do all your analysis to answer the questions below in this Jupyter notebook. Show your work. Questions 10, 13, and 14 ask for your thoughts as a few sentences (regular prose, not code :-).\n",
    "\n",
    "**Please submit your completed notebook by 11:59PM on Thursday, December 17.**"
   ]
  },
  {
   "cell_type": "markdown",
   "metadata": {},
   "source": [
    "## About the Data\n",
    "\n",
    "```\n",
    "VARIABLE DESCRIPTIONS:\n",
    "survival        Survival\n",
    "                (0 = No; 1 = Yes)\n",
    "pclass          Passenger Class\n",
    "                (1 = 1st; 2 = 2nd; 3 = 3rd)\n",
    "name            Name\n",
    "sex             Sex\n",
    "age             Age\n",
    "sibsp           Number of Siblings/Spouses Aboard\n",
    "parch           Number of Parents/Children Aboard\n",
    "ticket          Ticket Number\n",
    "fare            Passenger Fare\n",
    "cabin           Cabin\n",
    "embarked        Port of Embarkation\n",
    "                (C = Cherbourg; Q = Queenstown; S = Southampton)\n",
    "\n",
    "SPECIAL NOTES:\n",
    "Pclass is a proxy for socio-economic status (SES)\n",
    " 1st ~ Upper; 2nd ~ Middle; 3rd ~ Lower\n",
    "\n",
    "Age is in Years; Fractional if Age less than One (1)\n",
    " If the Age is Estimated, it is in the form xx.5\n",
    "\n",
    "With respect to the family relation variables (i.e. sibsp and parch)\n",
    "some relations were ignored.  The following are the definitions used\n",
    "for sibsp and parch.\n",
    "\n",
    "Sibling:  Brother, Sister, Stepbrother, or Stepsister of Passenger Aboard Titanic\n",
    "Spouse:   Husband or Wife of Passenger Aboard Titanic (Mistresses and Fiances Ignored)\n",
    "Parent:   Mother or Father of Passenger Aboard Titanic\n",
    "Child:    Son, Daughter, Stepson, or Stepdaughter of Passenger Aboard Titanic\n",
    "\n",
    "Other family relatives excluded from this study include cousins,\n",
    "nephews/nieces, aunts/uncles, and in-laws.  Some children travelled\n",
    "only with a nanny, therefore parch=0 for them.  As well, some\n",
    "travelled with very close friends or neighbors in a village, however,\n",
    "the definitions do not support such relations.\n",
    "```"
   ]
  },
  {
   "cell_type": "markdown",
   "metadata": {},
   "source": [
    "### Load Data\n",
    "\n",
    "Start by loading the Titanic data into a numpy array. The code to do this is included below to get you started."
   ]
  },
  {
   "cell_type": "code",
   "execution_count": 16,
   "metadata": {
    "collapsed": false
   },
   "outputs": [
    {
     "name": "stdout",
     "output_type": "stream",
     "text": [
      "<type 'numpy.ndarray'>\n",
      "(891, 12)\n",
      "\n",
      "...\n",
      "['891' '0' '3' 'Dooley, Mr. Patrick' 'male' '32' '0' '0' '370376' '7.75' ''\n",
      " 'Q']\n"
     ]
    }
   ],
   "source": [
    "# We'll use the csv module from the Python standard library to read each row of our input data file\n",
    "#   into a list that we then convert into a numpy array.\n",
    "\n",
    "import csv as csv\n",
    "import numpy as np\n",
    "import pandas as pd\n",
    "\n",
    "file_object = csv.reader(open('titanic.csv', 'rb'))\n",
    "header = file_object.next() #First, let's strip off the header\n",
    "\n",
    "data = []\n",
    "for row in file_object:\n",
    "    data.append(row)\n",
    "\n",
    "data = np.array(data) #Turn our Python list into a numpy array\n",
    "\n",
    "# Let's see what our data looks like. Notice what type the data appears to be inside the numpy array.\n",
    "print type(data)\n",
    "print data.shape\n",
    "\n",
    "print '\\n' + '...'\n",
    "print data[-1,:]"
   ]
  },
  {
   "cell_type": "code",
   "execution_count": 196,
   "metadata": {
    "collapsed": false
   },
   "outputs": [
    {
     "data": {
      "text/html": [
       "<div>\n",
       "<table border=\"1\" class=\"dataframe\">\n",
       "  <thead>\n",
       "    <tr style=\"text-align: right;\">\n",
       "      <th></th>\n",
       "      <th>passenger_number</th>\n",
       "      <th>survival_binary</th>\n",
       "      <th>passenger_class</th>\n",
       "      <th>name</th>\n",
       "      <th>sex</th>\n",
       "      <th>age</th>\n",
       "      <th>#siblings/spouses</th>\n",
       "      <th>#parents/children</th>\n",
       "      <th>ticket_number</th>\n",
       "      <th>passenger_fare</th>\n",
       "      <th>cabin</th>\n",
       "      <th>port of embarkation</th>\n",
       "    </tr>\n",
       "  </thead>\n",
       "  <tbody>\n",
       "    <tr>\n",
       "      <th>0</th>\n",
       "      <td>PassengerId</td>\n",
       "      <td>Survived</td>\n",
       "      <td>Pclass</td>\n",
       "      <td>Name</td>\n",
       "      <td>Sex</td>\n",
       "      <td>Age</td>\n",
       "      <td>SibSp</td>\n",
       "      <td>Parch</td>\n",
       "      <td>Ticket</td>\n",
       "      <td>Fare</td>\n",
       "      <td>Cabin</td>\n",
       "      <td>Embarked</td>\n",
       "    </tr>\n",
       "    <tr>\n",
       "      <th>1</th>\n",
       "      <td>1</td>\n",
       "      <td>0</td>\n",
       "      <td>3</td>\n",
       "      <td>Braund, Mr. Owen Harris</td>\n",
       "      <td>male</td>\n",
       "      <td>22</td>\n",
       "      <td>1</td>\n",
       "      <td>0</td>\n",
       "      <td>A/5 21171</td>\n",
       "      <td>7.25</td>\n",
       "      <td>NaN</td>\n",
       "      <td>S</td>\n",
       "    </tr>\n",
       "    <tr>\n",
       "      <th>2</th>\n",
       "      <td>2</td>\n",
       "      <td>1</td>\n",
       "      <td>1</td>\n",
       "      <td>Cumings, Mrs. John Bradley (Florence Briggs Th...</td>\n",
       "      <td>female</td>\n",
       "      <td>38</td>\n",
       "      <td>1</td>\n",
       "      <td>0</td>\n",
       "      <td>PC 17599</td>\n",
       "      <td>71.2833</td>\n",
       "      <td>C85</td>\n",
       "      <td>C</td>\n",
       "    </tr>\n",
       "    <tr>\n",
       "      <th>3</th>\n",
       "      <td>3</td>\n",
       "      <td>1</td>\n",
       "      <td>3</td>\n",
       "      <td>Heikkinen, Miss. Laina</td>\n",
       "      <td>female</td>\n",
       "      <td>26</td>\n",
       "      <td>0</td>\n",
       "      <td>0</td>\n",
       "      <td>STON/O2. 3101282</td>\n",
       "      <td>7.925</td>\n",
       "      <td>NaN</td>\n",
       "      <td>S</td>\n",
       "    </tr>\n",
       "    <tr>\n",
       "      <th>4</th>\n",
       "      <td>4</td>\n",
       "      <td>1</td>\n",
       "      <td>1</td>\n",
       "      <td>Futrelle, Mrs. Jacques Heath (Lily May Peel)</td>\n",
       "      <td>female</td>\n",
       "      <td>35</td>\n",
       "      <td>1</td>\n",
       "      <td>0</td>\n",
       "      <td>113803</td>\n",
       "      <td>53.1</td>\n",
       "      <td>C123</td>\n",
       "      <td>S</td>\n",
       "    </tr>\n",
       "  </tbody>\n",
       "</table>\n",
       "</div>"
      ],
      "text/plain": [
       "  passenger_number survival_binary passenger_class  \\\n",
       "0      PassengerId        Survived          Pclass   \n",
       "1                1               0               3   \n",
       "2                2               1               1   \n",
       "3                3               1               3   \n",
       "4                4               1               1   \n",
       "\n",
       "                                                name     sex  age  \\\n",
       "0                                               Name     Sex  Age   \n",
       "1                            Braund, Mr. Owen Harris    male   22   \n",
       "2  Cumings, Mrs. John Bradley (Florence Briggs Th...  female   38   \n",
       "3                             Heikkinen, Miss. Laina  female   26   \n",
       "4       Futrelle, Mrs. Jacques Heath (Lily May Peel)  female   35   \n",
       "\n",
       "  #siblings/spouses #parents/children     ticket_number passenger_fare  cabin  \\\n",
       "0             SibSp             Parch            Ticket           Fare  Cabin   \n",
       "1                 1                 0         A/5 21171           7.25    NaN   \n",
       "2                 1                 0          PC 17599        71.2833    C85   \n",
       "3                 0                 0  STON/O2. 3101282          7.925    NaN   \n",
       "4                 1                 0            113803           53.1   C123   \n",
       "\n",
       "  port of embarkation  \n",
       "0            Embarked  \n",
       "1                   S  \n",
       "2                   C  \n",
       "3                   S  \n",
       "4                   S  "
      ]
     },
     "execution_count": 196,
     "metadata": {},
     "output_type": "execute_result"
    }
   ],
   "source": [
    "col_names = ['passenger_number', 'survival_binary', 'passenger_class', 'name', 'sex', 'age', '#siblings/spouses', '#parents/children', 'ticket_number','passenger_fare', 'cabin', 'port of embarkation']\n",
    "tidata = pd.read_csv('titanic.csv', header=None, names=col_names)\n",
    "tidata.head()"
   ]
  },
  {
   "cell_type": "markdown",
   "metadata": {},
   "source": [
    "## Homework Questions"
   ]
  },
  {
   "cell_type": "markdown",
   "metadata": {},
   "source": [
    "**1) How many passengers are in our passenger list? For this assignment, we’ll assume our dataset represents the full passenger list for the Titanic.**"
   ]
  },
  {
   "cell_type": "code",
   "execution_count": 127,
   "metadata": {
    "collapsed": false
   },
   "outputs": [
    {
     "name": "stdout",
     "output_type": "stream",
     "text": [
      "There are 891 passengers in our list.\n"
     ]
    }
   ],
   "source": [
    "# Your code here for num_passengers. Uncomment the line below to format your answer.\n",
    "\n",
    "num_passengers = np.shape(data)[0]\n",
    "\n",
    "print 'There are ' + str(num_passengers) + ' passengers in our list.'"
   ]
  },
  {
   "cell_type": "markdown",
   "metadata": {},
   "source": [
    "**2) What is the overall survival rate (as a percentage of total passengers in our list)?**"
   ]
  },
  {
   "cell_type": "code",
   "execution_count": 55,
   "metadata": {
    "collapsed": false
   },
   "outputs": [
    {
     "ename": "NameError",
     "evalue": "name 'num_passengers' is not defined",
     "output_type": "error",
     "traceback": [
      "\u001b[0;31m---------------------------------------------------------------------------\u001b[0m",
      "\u001b[0;31mNameError\u001b[0m                                 Traceback (most recent call last)",
      "\u001b[0;32m<ipython-input-55-e47162803965>\u001b[0m in \u001b[0;36m<module>\u001b[0;34m()\u001b[0m\n\u001b[1;32m      8\u001b[0m \u001b[0mnum_survived\u001b[0m \u001b[0;34m=\u001b[0m \u001b[0mnp\u001b[0m\u001b[0;34m.\u001b[0m\u001b[0msum\u001b[0m\u001b[0;34m(\u001b[0m\u001b[0mtotal_survivors\u001b[0m\u001b[0;34m)\u001b[0m\u001b[0;34m\u001b[0m\u001b[0m\n\u001b[1;32m      9\u001b[0m \u001b[0;34m\u001b[0m\u001b[0m\n\u001b[0;32m---> 10\u001b[0;31m \u001b[0msurvival_rate\u001b[0m \u001b[0;34m=\u001b[0m \u001b[0mnum_survived\u001b[0m \u001b[0;34m/\u001b[0m \u001b[0mnum_passengers\u001b[0m\u001b[0;34m\u001b[0m\u001b[0m\n\u001b[0m\u001b[1;32m     11\u001b[0m \u001b[0;34m\u001b[0m\u001b[0m\n\u001b[1;32m     12\u001b[0m \u001b[0;32mprint\u001b[0m \u001b[0;34m'Of '\u001b[0m \u001b[0;34m+\u001b[0m \u001b[0mstr\u001b[0m\u001b[0;34m(\u001b[0m\u001b[0mnum_passengers\u001b[0m\u001b[0;34m)\u001b[0m \u001b[0;34m+\u001b[0m \u001b[0;34m' passengers, '\u001b[0m \u001b[0;34m+\u001b[0m \u001b[0mstr\u001b[0m\u001b[0;34m(\u001b[0m\u001b[0mnum_survived\u001b[0m\u001b[0;34m)\u001b[0m \u001b[0;34m+\u001b[0m \u001b[0;34m' survived.'\u001b[0m\u001b[0;34m\u001b[0m\u001b[0m\n",
      "\u001b[0;31mNameError\u001b[0m: name 'num_passengers' is not defined"
     ]
    }
   ],
   "source": [
    "#HINT: You may want to import another module here\n",
    "#Your code here to calculate num_survived and survival_rate. \n",
    "#Again, we've provided some code you can use to format your answer.\n",
    "\n",
    "survivors1 = data[0::,1] == \"1\"\n",
    "total_survivors = data[survivors1,1].astype(np.float)\n",
    "\n",
    "num_survived = np.sum(total_survivors)\n",
    "\n",
    "survival_rate = num_survived / num_passengers\n",
    "\n",
    "print 'Of ' + str(num_passengers) + ' passengers, ' + str(num_survived) + ' survived.'\n",
    "print 'The survival rate is ' + str(survival_rate) + ' or '+ str(\"{0:.0f}%\".format(survival_rate * 100))"
   ]
  },
  {
   "cell_type": "markdown",
   "metadata": {},
   "source": [
    "**3) How many male passengers were onboard?**"
   ]
  },
  {
   "cell_type": "code",
   "execution_count": 306,
   "metadata": {
    "collapsed": false
   },
   "outputs": [
    {
     "name": "stdout",
     "output_type": "stream",
     "text": [
      "There were 577 male passengers onboard.\n"
     ]
    }
   ],
   "source": [
    "# Your code here to calculate num_male\n",
    "\n",
    "female_data = data[0::,4] == \"female\"\n",
    "male_data = data[0::,4] == \"male\"\n",
    "\n",
    "men = data[male_data, 1].astype(np.float)\n",
    "\n",
    "num_males = np.size(men)\n",
    "\n",
    "print 'There were ' + str(num_males) + ' male passengers onboard.'"
   ]
  },
  {
   "cell_type": "markdown",
   "metadata": {},
   "source": [
    "**4) How many female passengers were onboard?**"
   ]
  },
  {
   "cell_type": "code",
   "execution_count": 302,
   "metadata": {
    "collapsed": false
   },
   "outputs": [
    {
     "name": "stdout",
     "output_type": "stream",
     "text": [
      "There were 314 female passengers onboard.\n"
     ]
    }
   ],
   "source": [
    "# Your code here to calculate num_females\n",
    "\n",
    "women = data[female_data, 1].astype(np.float)\n",
    "\n",
    "num_females = np.size(women)\n",
    "\n",
    "print 'There were ' + str(num_females) + ' female passengers onboard.'"
   ]
  },
  {
   "cell_type": "markdown",
   "metadata": {},
   "source": [
    "**5) What is the overall survival rate of male passengers?**"
   ]
  },
  {
   "cell_type": "code",
   "execution_count": 308,
   "metadata": {
    "collapsed": false
   },
   "outputs": [
    {
     "name": "stdout",
     "output_type": "stream",
     "text": [
      "The survival rate of male passengers was 18.89%\n"
     ]
    }
   ],
   "source": [
    "# Your code here to calculate male_survival_rate\n",
    "\n",
    "num_living_males = np.sum(men)\n",
    "\n",
    "male_survival_rate = num_living_males / num_males\n",
    "\n",
    "print 'The survival rate of male passengers was ' + str(\"{0:.2f}%\".format(male_survival_rate * 100))"
   ]
  },
  {
   "cell_type": "markdown",
   "metadata": {},
   "source": [
    "**6) What is the overall survival rate of female passengers?**"
   ]
  },
  {
   "cell_type": "code",
   "execution_count": 310,
   "metadata": {
    "collapsed": false
   },
   "outputs": [
    {
     "name": "stdout",
     "output_type": "stream",
     "text": [
      "The survival rate of female passengers was 74.20%\n"
     ]
    }
   ],
   "source": [
    "# Your code here to calculate female_survival_rate\n",
    "\n",
    "num_living_females = np.sum(women)\n",
    "\n",
    "female_survival_rate = num_living_females / num_females\n",
    "\n",
    "print 'The survival rate of female passengers was ' + str(\"{0:.2f}%\".format(female_survival_rate * 100))"
   ]
  },
  {
   "cell_type": "markdown",
   "metadata": {},
   "source": [
    "**7) What is the average age of all passengers onboard?**"
   ]
  },
  {
   "cell_type": "code",
   "execution_count": 99,
   "metadata": {
    "collapsed": false
   },
   "outputs": [
    {
     "name": "stdout",
     "output_type": "stream",
     "text": [
      "The average age of all passengers onboard was 29.70\n"
     ]
    }
   ],
   "source": [
    "# Your code here to calculate avg_age\n",
    "# HINT: This may be trickier than it first seems. Look at the age values in the raw data file.\n",
    "with_age = data[0::,5] != \"\"\n",
    "age = data[with_age,5].astype(np.float)\n",
    "#print np.size(age)\n",
    "avg_age = np.sum(age) / np.size(age)\n",
    "\n",
    "print 'The average age of all passengers onboard was ' + str(\"{0:.2f}\".format(avg_age))"
   ]
  },
  {
   "cell_type": "markdown",
   "metadata": {},
   "source": [
    "**8) What is the average age of passengers who survived?**"
   ]
  },
  {
   "cell_type": "code",
   "execution_count": 102,
   "metadata": {
    "collapsed": false
   },
   "outputs": [
    {
     "name": "stdout",
     "output_type": "stream",
     "text": [
      "The average of age of passengers who survived was 28.34\n"
     ]
    }
   ],
   "source": [
    "# Your code here to calculate avg_age_survived\n",
    "\n",
    "lll = []\n",
    "avgsurvage = data[survivors1, 5]\n",
    "\n",
    "avgsurvnoage = data[survivors1,5] != \"\"\n",
    "\n",
    "for nums in avgsurvage:\n",
    "    if nums != \"\":\n",
    "        lll.append(nums.astype(np.float))\n",
    "\n",
    "#print avgsurvage        \n",
    "#print np.sum(lll)\n",
    "#avgsurvnoage11 = data[avgsurvnoage,5].astype(int)\n",
    "#print avgsurvnoage11\n",
    "#print data[avgsurvnoage, 5]\n",
    "#print np.size(avgsurvage) #number of survivors\n",
    "#print np.sum(avgsurvnoage) #number of survivors with age stats\n",
    "\n",
    "avg_age_survived = sum(lll) / np.sum(avgsurvnoage) \n",
    "\n",
    "print 'The average of age of passengers who survived was ' + str(\"{0:.2f}\".format(avg_age_survived))"
   ]
  },
  {
   "cell_type": "markdown",
   "metadata": {},
   "source": [
    "**9) What is the average age of passengers who did not survive?**"
   ]
  },
  {
   "cell_type": "code",
   "execution_count": 61,
   "metadata": {
    "collapsed": false
   },
   "outputs": [
    {
     "name": "stdout",
     "output_type": "stream",
     "text": [
      "The average of age of passengers who did not survive was 30.63\n"
     ]
    }
   ],
   "source": [
    "# Your code here to calculate avg_age_not_survive\n",
    "fff = []\n",
    "notsurvivors1 = data[0::,1] == \"0\"\n",
    "avgnotsurvage = data[notsurvivors1, 5]\n",
    "avgnotsurvnoage = data[notsurvivors1, 5] != \"\"\n",
    "\n",
    "np.size(avgnotsurvage) #number of not survivors\n",
    "np.sum(avgnotsurvnoage) #number of not survivors with age stats\n",
    "\n",
    "#print avgnotsurvage\n",
    "#fff = fff.astype(int)\n",
    "for nums in avgnotsurvage:\n",
    "    if nums != \"\":\n",
    "        fff.append(nums.astype(np.float))\n",
    "#print type(fff[1])\n",
    "#print fff\n",
    "total_years = sum(fff)\n",
    "\n",
    "avg_age_not_survive = sum(fff) / np.sum(avgnotsurvnoage)\n",
    "\n",
    "print 'The average of age of passengers who did not survive was ' + str(\"{0:.2f}\".format(avg_age_not_survive))"
   ]
  },
  {
   "cell_type": "markdown",
   "metadata": {},
   "source": [
    "**10) At this (early) point in our analysis, what might you infer about any patterns you are seeing in who survived / did not survive?**"
   ]
  },
  {
   "cell_type": "markdown",
   "metadata": {
    "collapsed": true
   },
   "source": [
    "* By itself, age is not a good predictor of survival\n",
    "* Gender is a good predictor of survival\n",
    "\n",
    "\n"
   ]
  },
  {
   "cell_type": "markdown",
   "metadata": {},
   "source": [
    "**11) How many passengers are in each of the three classes of service (e.g. First, Second, Third?)**"
   ]
  },
  {
   "cell_type": "code",
   "execution_count": 38,
   "metadata": {
    "collapsed": false
   },
   "outputs": [
    {
     "name": "stdout",
     "output_type": "stream",
     "text": [
      "216\n",
      "184\n",
      "491\n"
     ]
    }
   ],
   "source": [
    "# Your code here\n",
    "# You do not need to format the output nicely like we did for the questions above.\n",
    "class1 = data[0::,2] == \"1\"\n",
    "class2 = data[0::,2] == \"2\"\n",
    "class3 = data[0::,2] == \"3\"\n",
    "\n",
    "print np.size(data[class1,0])\n",
    "print np.size(data[class2,0])\n",
    "print np.size(data[class3,0])\n",
    "\n"
   ]
  },
  {
   "cell_type": "markdown",
   "metadata": {},
   "source": [
    "**12) What is the survival rate for passengers in each of the three classes of service?**"
   ]
  },
  {
   "cell_type": "code",
   "execution_count": 50,
   "metadata": {
    "collapsed": false
   },
   "outputs": [
    {
     "name": "stdout",
     "output_type": "stream",
     "text": [
      "0.62962962963\n",
      "0.472826086957\n",
      "0.242362525458\n"
     ]
    }
   ],
   "source": [
    "# Your code here\n",
    "# HINT: Averaging of the 1's and 0's in the \"Survived\" column will give a survival rate.\n",
    "# We want the survival rate for each passenger class.\n",
    "# You do not need to format the output nicely.\n",
    "\n",
    "class1survivors = data[class1, 1].astype(int)\n",
    "print np.mean(class1survivors)\n",
    "class2survivors = data[class2, 1].astype(int)\n",
    "print np.mean(class2survivors)\n",
    "class3survivors = data[class3, 1].astype(int)\n",
    "print np.mean(class3survivors)"
   ]
  },
  {
   "cell_type": "markdown",
   "metadata": {},
   "source": [
    "**13) How does what we learned in 11) and 12) influence our early conclusions from 10) ?**"
   ]
  },
  {
   "cell_type": "markdown",
   "metadata": {
    "collapsed": true
   },
   "source": [
    "Male vs. female is still the best indicator of survival."
   ]
  },
  {
   "cell_type": "markdown",
   "metadata": {},
   "source": [
    "**14) If we were to build a predictive model, which features in the data do you think we should include in the model and which can we leave out? Why?**"
   ]
  },
  {
   "cell_type": "markdown",
   "metadata": {
    "collapsed": true
   },
   "source": [
    "Class and Male vs. Female are the best indicators of survival that we've explored and probably have a fair amount of predictive power. Siblings/spouses and parents/children would also be interesting too incorporate into a model that predicts survival, as these people would probably work together."
   ]
  }
 ],
 "metadata": {
  "kernelspec": {
   "display_name": "Python 2",
   "language": "python",
   "name": "python2"
  },
  "language_info": {
   "codemirror_mode": {
    "name": "ipython",
    "version": 2
   },
   "file_extension": ".py",
   "mimetype": "text/x-python",
   "name": "python",
   "nbconvert_exporter": "python",
   "pygments_lexer": "ipython2",
   "version": "2.7.11"
  }
 },
 "nbformat": 4,
 "nbformat_minor": 0
}
