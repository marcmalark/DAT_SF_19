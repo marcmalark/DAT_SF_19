{
 "cells": [
  {
   "cell_type": "code",
   "execution_count": 4,
   "metadata": {
    "collapsed": false
   },
   "outputs": [
    {
     "name": "stdout",
     "output_type": "stream",
     "text": [
      "0.672064777328\n"
     ]
    }
   ],
   "source": [
    "import numpy as np\n",
    "\n",
    "def flip_two():\n",
    "   a = np.random.binomial(1,p=0.5)\n",
    "   b = np.random.binomial(1,p=0.5)\n",
    "   return (a,b)\n",
    "results = {'matched':0,'total':0}\n",
    "tests = [flip_two() for x in xrange(1000)]\n",
    "\n",
    "for val in tests:\n",
    "   if (val[0]==0) |( val[1]==0):\n",
    "       \n",
    "       results['total'] += 1\n",
    "       if val[0] == 0:\n",
    "           results['matched'] +=1\n",
    "print results['matched']*1.0 / results['total']"
   ]
  },
  {
   "cell_type": "code",
   "execution_count": null,
   "metadata": {
    "collapsed": true
   },
   "outputs": [],
   "source": []
  }
 ],
 "metadata": {
  "kernelspec": {
   "display_name": "Python 2",
   "language": "python",
   "name": "python2"
  },
  "language_info": {
   "codemirror_mode": {
    "name": "ipython",
    "version": 2
   },
   "file_extension": ".py",
   "mimetype": "text/x-python",
   "name": "python",
   "nbconvert_exporter": "python",
   "pygments_lexer": "ipython2",
   "version": "2.7.11"
  }
 },
 "nbformat": 4,
 "nbformat_minor": 0
}
